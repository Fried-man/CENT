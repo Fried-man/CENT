{
 "cells": [
  {
   "cell_type": "code",
   "execution_count": 20,
   "id": "3c25b239",
   "metadata": {},
   "outputs": [],
   "source": [
    "contents = []\n",
    "with open('USA-Jan.fasta', 'r') as file:\n",
    "    contents = file.read().replace('\\n', '')"
   ]
  },
  {
   "cell_type": "code",
   "execution_count": 21,
   "id": "37b49dc4",
   "metadata": {},
   "outputs": [],
   "source": [
    "listOfSequences = contents.split('>')[1:]"
   ]
  },
  {
   "cell_type": "code",
   "execution_count": 41,
   "id": "31db1816",
   "metadata": {},
   "outputs": [],
   "source": [
    "class Sequence:\n",
    "    def __init__(self, content):\n",
    "        accession, definition, SRA_accession, submit_date, species, molecule_type, length, data_location, nuc_completeness, geolocation, country, state, host, sequence = content.split('|')\n",
    "        self.accession = accession\n",
    "        self.definition = definition\n",
    "        self.SRA_accession = SRA_accession\n",
    "        self.submit_date = submit_date\n",
    "        self.species = species\n",
    "        self.molecule_type = molecule_type\n",
    "        self.length = length\n",
    "        self.data_location = data_location\n",
    "        self.nuc_completeness = nuc_completeness\n",
    "        self.geolocation = geolocation\n",
    "        self.country = country\n",
    "        self.state = state\n",
    "        self.host = host\n",
    "        self.sequence = sequence[4:]"
   ]
  },
  {
   "cell_type": "code",
   "execution_count": 44,
   "id": "aa26a30e",
   "metadata": {},
   "outputs": [],
   "source": [
    "sequences = []\n",
    "for sequence in listOfSequences:\n",
    "    s = Sequence(sequence)\n",
    "    sequences.append(s)"
   ]
  },
  {
   "cell_type": "code",
   "execution_count": null,
   "id": "f3a04537",
   "metadata": {},
   "outputs": [],
   "source": []
  }
 ],
 "metadata": {
  "kernelspec": {
   "display_name": "Python 3 (ipykernel)",
   "language": "python",
   "name": "python3"
  },
  "language_info": {
   "codemirror_mode": {
    "name": "ipython",
    "version": 3
   },
   "file_extension": ".py",
   "mimetype": "text/x-python",
   "name": "python",
   "nbconvert_exporter": "python",
   "pygments_lexer": "ipython3",
   "version": "3.9.7"
  }
 },
 "nbformat": 4,
 "nbformat_minor": 5
}
