{
 "cells": [
  {
   "cell_type": "code",
   "execution_count": 188,
   "id": "bcf8f806",
   "metadata": {},
   "outputs": [],
   "source": [
    "import numpy as np\n",
    "import tensorflow as tf\n",
    "import json\n",
    "import random\n",
    "from sklearn.model_selection import train_test_split\n",
    "from tensorflow import keras\n",
    "from tensorflow.keras import layers"
   ]
  },
  {
   "cell_type": "code",
   "execution_count": 189,
   "id": "38d27674",
   "metadata": {},
   "outputs": [],
   "source": [
    "with open('First Thousand Jan.json', 'r') as f:   \n",
    "    sequences = json.load(f)\n",
    "    sequences = sequences['Sequences']"
   ]
  },
  {
   "cell_type": "code",
   "execution_count": 190,
   "id": "9083f233",
   "metadata": {},
   "outputs": [
    {
     "name": "stdout",
     "output_type": "stream",
     "text": [
      "3831\n",
      "3801\n"
     ]
    }
   ],
   "source": [
    "s_sequences = [s['S Unit Sequence'] for s in sequences if s['S Unit Sequence'] is not None]\n",
    "max_length = 0\n",
    "min_length = 1000000\n",
    "for s in s_sequences:\n",
    "    max_length = max(max_length, len(s))\n",
    "    min_length = min(min_length, len(s))\n",
    "print(max_length)\n",
    "print(min_length)"
   ]
  },
  {
   "cell_type": "code",
   "execution_count": 428,
   "id": "696e48a6",
   "metadata": {},
   "outputs": [],
   "source": [
    "# Set seed for random so it's repeatable\n",
    "random.seed(111)\n",
    "rand_length = random.randint(min_length, max_length)\n",
    "\n",
    "num_new_sequences = len(s_sequences)\n",
    "new_sequences = []\n",
    "# intToChar = {1:'A', 2:'T', 3:'C', 4:'G', 5:'N'}\n",
    "for i in range(num_new_sequences):\n",
    "    new_sequence = ''\n",
    "    for j in range(rand_length):\n",
    "        new_sequence += str(random.randint(1, 5))\n",
    "    new_sequences.append(new_sequence)"
   ]
  },
  {
   "cell_type": "code",
   "execution_count": 429,
   "id": "4b698371",
   "metadata": {},
   "outputs": [],
   "source": [
    "charToInt = {'A': '1', 'T': '2', 'C': '3', 'G': '4', 'N': '5'}\n",
    "int_s_sequences = []\n",
    "for seq in s_sequences:\n",
    "    currIntStr = ''\n",
    "    for s in seq:\n",
    "        currIntStr += charToInt[s]\n",
    "    int_s_sequences.append(currIntStr)"
   ]
  },
  {
   "cell_type": "code",
   "execution_count": 430,
   "id": "1ab55a53",
   "metadata": {},
   "outputs": [],
   "source": [
    "all_sequences = int_s_sequences + new_sequences\n",
    "all_sequences_labels = [1]  * len(s_sequences) + [0] * len(new_sequences)"
   ]
  },
  {
   "cell_type": "code",
   "execution_count": 472,
   "id": "bbc15b51",
   "metadata": {},
   "outputs": [],
   "source": [
    "X_train, X_test, y_train, y_test = train_test_split(all_sequences, all_sequences_labels, test_size=0.2, random_state=111, shuffle=True)\n",
    "X_train = [[[int(i) for i in x]] for x in X_train]\n",
    "X_test = [[[int(i) for i in x]] for x in X_test]\n",
    "y_train = [[x] for x in y_train]\n",
    "y_test = [[x] for x in y_test]\n",
    "\n",
    "# X_test = [[[x]] for x in X_test]\n",
    "# y_train = [[[x]] for x in y_train]\n",
    "# y_test = [[[x]] for x in y_test]\n",
    "\n",
    "# X_test = np.array(X_test)\n",
    "# y_train = np.array(y_train)\n",
    "# y_test = np.array(y_test)\n",
    "\n",
    "\n",
    "\n",
    "X_train = tf.ragged.constant(X_train)\n",
    "# X_test = tf.ragged.constant(X_test)\n",
    "# y_train = tf.ragged.constant(y_train)\n",
    "# y_test = tf.ragged.constant(y_test)"
   ]
  },
  {
   "cell_type": "code",
   "execution_count": 467,
   "id": "4af8288c",
   "metadata": {
    "scrolled": true
   },
   "outputs": [
    {
     "name": "stdout",
     "output_type": "stream",
     "text": [
      "(384, None, None)\n",
      "(384, 1)\n",
      "tf.Tensor(3831, shape=(), dtype=int64)\n"
     ]
    }
   ],
   "source": [
    "print(X_train.shape)\n",
    "print(y_train.shape)\n",
    "print(X_train.bounding_shape()[-1])"
   ]
  },
  {
   "cell_type": "code",
   "execution_count": 468,
   "id": "aa377e13",
   "metadata": {},
   "outputs": [
    {
     "name": "stdout",
     "output_type": "stream",
     "text": [
      "Model: \"sequential_81\"\n",
      "_________________________________________________________________\n",
      "Layer (type)                 Output Shape              Param #   \n",
      "=================================================================\n",
      "lstm_81 (LSTM)               (384, 64)                 997376    \n",
      "_________________________________________________________________\n",
      "dense_81 (Dense)             (384, 1)                  65        \n",
      "=================================================================\n",
      "Total params: 997,441\n",
      "Trainable params: 997,441\n",
      "Non-trainable params: 0\n",
      "_________________________________________________________________\n"
     ]
    }
   ],
   "source": [
    "model = tf.keras.Sequential([\n",
    "    # Input Layer with shape = [Any,  maximum sequence length]                      \n",
    "    tf.keras.layers.Input(shape=[None, X_train.bounding_shape()[-1]], batch_size=384, dtype=tf.float32, ragged=True),\n",
    "    tf.keras.layers.LSTM(64),\n",
    "    tf.keras.layers.Dense(1, activation='relu')\n",
    "])\n",
    "model.compile(loss=tf.keras.losses.CategoricalCrossentropy(from_logits=True),\n",
    "              optimizer=tf.keras.optimizers.Adam(1e-4),\n",
    "              metrics=['accuracy'])\n",
    "model.summary()"
   ]
  },
  {
   "cell_type": "code",
   "execution_count": 469,
   "id": "13ff4bf5",
   "metadata": {
    "scrolled": true
   },
   "outputs": [
    {
     "name": "stdout",
     "output_type": "stream",
     "text": [
      "Epoch 1/10\n"
     ]
    },
    {
     "ename": "InvalidArgumentError",
     "evalue": " In[0] mismatch In[1] shape: 3827 vs. 3831: [32,3827] [3831,256] 0 0\n\t [[{{node sequential_81/lstm_81/while/body/_1/sequential_81/lstm_81/while/lstm_cell_81/MatMul}}]] [Op:__inference_train_function_98221]\n\nFunction call stack:\ntrain_function\n",
     "output_type": "error",
     "traceback": [
      "\u001b[0;31m---------------------------------------------------------------------------\u001b[0m",
      "\u001b[0;31mInvalidArgumentError\u001b[0m                      Traceback (most recent call last)",
      "\u001b[0;32m/var/folders/xl/gsbth_zx5kz5wb2wm4n5p9s40000gn/T/ipykernel_69031/840084495.py\u001b[0m in \u001b[0;36m<module>\u001b[0;34m\u001b[0m\n\u001b[0;32m----> 1\u001b[0;31m \u001b[0mhistory\u001b[0m \u001b[0;34m=\u001b[0m \u001b[0mmodel\u001b[0m\u001b[0;34m.\u001b[0m\u001b[0mfit\u001b[0m\u001b[0;34m(\u001b[0m\u001b[0mX_train\u001b[0m\u001b[0;34m,\u001b[0m \u001b[0my_train\u001b[0m\u001b[0;34m,\u001b[0m \u001b[0mepochs\u001b[0m\u001b[0;34m=\u001b[0m\u001b[0;36m10\u001b[0m\u001b[0;34m)\u001b[0m\u001b[0;34m\u001b[0m\u001b[0;34m\u001b[0m\u001b[0m\n\u001b[0m",
      "\u001b[0;32m/Library/Frameworks/Python.framework/Versions/3.9/lib/python3.9/site-packages/keras/engine/training.py\u001b[0m in \u001b[0;36mfit\u001b[0;34m(self, x, y, batch_size, epochs, verbose, callbacks, validation_split, validation_data, shuffle, class_weight, sample_weight, initial_epoch, steps_per_epoch, validation_steps, validation_batch_size, validation_freq, max_queue_size, workers, use_multiprocessing)\u001b[0m\n\u001b[1;32m   1182\u001b[0m                 _r=1):\n\u001b[1;32m   1183\u001b[0m               \u001b[0mcallbacks\u001b[0m\u001b[0;34m.\u001b[0m\u001b[0mon_train_batch_begin\u001b[0m\u001b[0;34m(\u001b[0m\u001b[0mstep\u001b[0m\u001b[0;34m)\u001b[0m\u001b[0;34m\u001b[0m\u001b[0;34m\u001b[0m\u001b[0m\n\u001b[0;32m-> 1184\u001b[0;31m               \u001b[0mtmp_logs\u001b[0m \u001b[0;34m=\u001b[0m \u001b[0mself\u001b[0m\u001b[0;34m.\u001b[0m\u001b[0mtrain_function\u001b[0m\u001b[0;34m(\u001b[0m\u001b[0miterator\u001b[0m\u001b[0;34m)\u001b[0m\u001b[0;34m\u001b[0m\u001b[0;34m\u001b[0m\u001b[0m\n\u001b[0m\u001b[1;32m   1185\u001b[0m               \u001b[0;32mif\u001b[0m \u001b[0mdata_handler\u001b[0m\u001b[0;34m.\u001b[0m\u001b[0mshould_sync\u001b[0m\u001b[0;34m:\u001b[0m\u001b[0;34m\u001b[0m\u001b[0;34m\u001b[0m\u001b[0m\n\u001b[1;32m   1186\u001b[0m                 \u001b[0mcontext\u001b[0m\u001b[0;34m.\u001b[0m\u001b[0masync_wait\u001b[0m\u001b[0;34m(\u001b[0m\u001b[0;34m)\u001b[0m\u001b[0;34m\u001b[0m\u001b[0;34m\u001b[0m\u001b[0m\n",
      "\u001b[0;32m/Library/Frameworks/Python.framework/Versions/3.9/lib/python3.9/site-packages/tensorflow/python/eager/def_function.py\u001b[0m in \u001b[0;36m__call__\u001b[0;34m(self, *args, **kwds)\u001b[0m\n\u001b[1;32m    883\u001b[0m \u001b[0;34m\u001b[0m\u001b[0m\n\u001b[1;32m    884\u001b[0m       \u001b[0;32mwith\u001b[0m \u001b[0mOptionalXlaContext\u001b[0m\u001b[0;34m(\u001b[0m\u001b[0mself\u001b[0m\u001b[0;34m.\u001b[0m\u001b[0m_jit_compile\u001b[0m\u001b[0;34m)\u001b[0m\u001b[0;34m:\u001b[0m\u001b[0;34m\u001b[0m\u001b[0;34m\u001b[0m\u001b[0m\n\u001b[0;32m--> 885\u001b[0;31m         \u001b[0mresult\u001b[0m \u001b[0;34m=\u001b[0m \u001b[0mself\u001b[0m\u001b[0;34m.\u001b[0m\u001b[0m_call\u001b[0m\u001b[0;34m(\u001b[0m\u001b[0;34m*\u001b[0m\u001b[0margs\u001b[0m\u001b[0;34m,\u001b[0m \u001b[0;34m**\u001b[0m\u001b[0mkwds\u001b[0m\u001b[0;34m)\u001b[0m\u001b[0;34m\u001b[0m\u001b[0;34m\u001b[0m\u001b[0m\n\u001b[0m\u001b[1;32m    886\u001b[0m \u001b[0;34m\u001b[0m\u001b[0m\n\u001b[1;32m    887\u001b[0m       \u001b[0mnew_tracing_count\u001b[0m \u001b[0;34m=\u001b[0m \u001b[0mself\u001b[0m\u001b[0;34m.\u001b[0m\u001b[0mexperimental_get_tracing_count\u001b[0m\u001b[0;34m(\u001b[0m\u001b[0;34m)\u001b[0m\u001b[0;34m\u001b[0m\u001b[0;34m\u001b[0m\u001b[0m\n",
      "\u001b[0;32m/Library/Frameworks/Python.framework/Versions/3.9/lib/python3.9/site-packages/tensorflow/python/eager/def_function.py\u001b[0m in \u001b[0;36m_call\u001b[0;34m(self, *args, **kwds)\u001b[0m\n\u001b[1;32m    948\u001b[0m         \u001b[0;31m# Lifting succeeded, so variables are initialized and we can run the\u001b[0m\u001b[0;34m\u001b[0m\u001b[0;34m\u001b[0m\u001b[0m\n\u001b[1;32m    949\u001b[0m         \u001b[0;31m# stateless function.\u001b[0m\u001b[0;34m\u001b[0m\u001b[0;34m\u001b[0m\u001b[0m\n\u001b[0;32m--> 950\u001b[0;31m         \u001b[0;32mreturn\u001b[0m \u001b[0mself\u001b[0m\u001b[0;34m.\u001b[0m\u001b[0m_stateless_fn\u001b[0m\u001b[0;34m(\u001b[0m\u001b[0;34m*\u001b[0m\u001b[0margs\u001b[0m\u001b[0;34m,\u001b[0m \u001b[0;34m**\u001b[0m\u001b[0mkwds\u001b[0m\u001b[0;34m)\u001b[0m\u001b[0;34m\u001b[0m\u001b[0;34m\u001b[0m\u001b[0m\n\u001b[0m\u001b[1;32m    951\u001b[0m     \u001b[0;32melse\u001b[0m\u001b[0;34m:\u001b[0m\u001b[0;34m\u001b[0m\u001b[0;34m\u001b[0m\u001b[0m\n\u001b[1;32m    952\u001b[0m       \u001b[0m_\u001b[0m\u001b[0;34m,\u001b[0m \u001b[0m_\u001b[0m\u001b[0;34m,\u001b[0m \u001b[0m_\u001b[0m\u001b[0;34m,\u001b[0m \u001b[0mfiltered_flat_args\u001b[0m \u001b[0;34m=\u001b[0m\u001b[0;31m \u001b[0m\u001b[0;31m\\\u001b[0m\u001b[0;34m\u001b[0m\u001b[0;34m\u001b[0m\u001b[0m\n",
      "\u001b[0;32m/Library/Frameworks/Python.framework/Versions/3.9/lib/python3.9/site-packages/tensorflow/python/eager/function.py\u001b[0m in \u001b[0;36m__call__\u001b[0;34m(self, *args, **kwargs)\u001b[0m\n\u001b[1;32m   3037\u001b[0m       (graph_function,\n\u001b[1;32m   3038\u001b[0m        filtered_flat_args) = self._maybe_define_function(args, kwargs)\n\u001b[0;32m-> 3039\u001b[0;31m     return graph_function._call_flat(\n\u001b[0m\u001b[1;32m   3040\u001b[0m         filtered_flat_args, captured_inputs=graph_function.captured_inputs)  # pylint: disable=protected-access\n\u001b[1;32m   3041\u001b[0m \u001b[0;34m\u001b[0m\u001b[0m\n",
      "\u001b[0;32m/Library/Frameworks/Python.framework/Versions/3.9/lib/python3.9/site-packages/tensorflow/python/eager/function.py\u001b[0m in \u001b[0;36m_call_flat\u001b[0;34m(self, args, captured_inputs, cancellation_manager)\u001b[0m\n\u001b[1;32m   1961\u001b[0m         and executing_eagerly):\n\u001b[1;32m   1962\u001b[0m       \u001b[0;31m# No tape is watching; skip to running the function.\u001b[0m\u001b[0;34m\u001b[0m\u001b[0;34m\u001b[0m\u001b[0m\n\u001b[0;32m-> 1963\u001b[0;31m       return self._build_call_outputs(self._inference_function.call(\n\u001b[0m\u001b[1;32m   1964\u001b[0m           ctx, args, cancellation_manager=cancellation_manager))\n\u001b[1;32m   1965\u001b[0m     forward_backward = self._select_forward_and_backward_functions(\n",
      "\u001b[0;32m/Library/Frameworks/Python.framework/Versions/3.9/lib/python3.9/site-packages/tensorflow/python/eager/function.py\u001b[0m in \u001b[0;36mcall\u001b[0;34m(self, ctx, args, cancellation_manager)\u001b[0m\n\u001b[1;32m    589\u001b[0m       \u001b[0;32mwith\u001b[0m \u001b[0m_InterpolateFunctionError\u001b[0m\u001b[0;34m(\u001b[0m\u001b[0mself\u001b[0m\u001b[0;34m)\u001b[0m\u001b[0;34m:\u001b[0m\u001b[0;34m\u001b[0m\u001b[0;34m\u001b[0m\u001b[0m\n\u001b[1;32m    590\u001b[0m         \u001b[0;32mif\u001b[0m \u001b[0mcancellation_manager\u001b[0m \u001b[0;32mis\u001b[0m \u001b[0;32mNone\u001b[0m\u001b[0;34m:\u001b[0m\u001b[0;34m\u001b[0m\u001b[0;34m\u001b[0m\u001b[0m\n\u001b[0;32m--> 591\u001b[0;31m           outputs = execute.execute(\n\u001b[0m\u001b[1;32m    592\u001b[0m               \u001b[0mstr\u001b[0m\u001b[0;34m(\u001b[0m\u001b[0mself\u001b[0m\u001b[0;34m.\u001b[0m\u001b[0msignature\u001b[0m\u001b[0;34m.\u001b[0m\u001b[0mname\u001b[0m\u001b[0;34m)\u001b[0m\u001b[0;34m,\u001b[0m\u001b[0;34m\u001b[0m\u001b[0;34m\u001b[0m\u001b[0m\n\u001b[1;32m    593\u001b[0m               \u001b[0mnum_outputs\u001b[0m\u001b[0;34m=\u001b[0m\u001b[0mself\u001b[0m\u001b[0;34m.\u001b[0m\u001b[0m_num_outputs\u001b[0m\u001b[0;34m,\u001b[0m\u001b[0;34m\u001b[0m\u001b[0;34m\u001b[0m\u001b[0m\n",
      "\u001b[0;32m/Library/Frameworks/Python.framework/Versions/3.9/lib/python3.9/site-packages/tensorflow/python/eager/execute.py\u001b[0m in \u001b[0;36mquick_execute\u001b[0;34m(op_name, num_outputs, inputs, attrs, ctx, name)\u001b[0m\n\u001b[1;32m     57\u001b[0m   \u001b[0;32mtry\u001b[0m\u001b[0;34m:\u001b[0m\u001b[0;34m\u001b[0m\u001b[0;34m\u001b[0m\u001b[0m\n\u001b[1;32m     58\u001b[0m     \u001b[0mctx\u001b[0m\u001b[0;34m.\u001b[0m\u001b[0mensure_initialized\u001b[0m\u001b[0;34m(\u001b[0m\u001b[0;34m)\u001b[0m\u001b[0;34m\u001b[0m\u001b[0;34m\u001b[0m\u001b[0m\n\u001b[0;32m---> 59\u001b[0;31m     tensors = pywrap_tfe.TFE_Py_Execute(ctx._handle, device_name, op_name,\n\u001b[0m\u001b[1;32m     60\u001b[0m                                         inputs, attrs, num_outputs)\n\u001b[1;32m     61\u001b[0m   \u001b[0;32mexcept\u001b[0m \u001b[0mcore\u001b[0m\u001b[0;34m.\u001b[0m\u001b[0m_NotOkStatusException\u001b[0m \u001b[0;32mas\u001b[0m \u001b[0me\u001b[0m\u001b[0;34m:\u001b[0m\u001b[0;34m\u001b[0m\u001b[0;34m\u001b[0m\u001b[0m\n",
      "\u001b[0;31mInvalidArgumentError\u001b[0m:  In[0] mismatch In[1] shape: 3827 vs. 3831: [32,3827] [3831,256] 0 0\n\t [[{{node sequential_81/lstm_81/while/body/_1/sequential_81/lstm_81/while/lstm_cell_81/MatMul}}]] [Op:__inference_train_function_98221]\n\nFunction call stack:\ntrain_function\n"
     ]
    }
   ],
   "source": [
    "history = model.fit(X_train, y_train, epochs=10)"
   ]
  },
  {
   "cell_type": "markdown",
   "id": "2b127266",
   "metadata": {},
   "source": [
    "# Working Example\n",
    "#### Below is a working example a ragged tensor input into an LSTM node than outputs a set of numbers\n",
    "I am unsure of what the differences are and how to improve them"
   ]
  },
  {
   "cell_type": "code",
   "execution_count": 522,
   "id": "4350d727",
   "metadata": {},
   "outputs": [],
   "source": [
    "# xx should be 3d for LSTM\n",
    "xx = tf.ragged.constant(X_train[:320])\n",
    "\n",
    "\"\"\"\n",
    "Labels represented as OneHotEncoding so you \n",
    "should use CategoricalCrossentropy instade of SparseCategoricalCrossentropy\n",
    "\"\"\"\n",
    "\n",
    "yy = np.array([[1]] * len(X_train[:320]))"
   ]
  },
  {
   "cell_type": "code",
   "execution_count": 523,
   "id": "d030b8d0",
   "metadata": {},
   "outputs": [
    {
     "name": "stdout",
     "output_type": "stream",
     "text": [
      "(320, None, None)\n",
      "(320, 1)\n",
      "tf.Tensor(3827, shape=(), dtype=int64)\n"
     ]
    }
   ],
   "source": [
    "print(xx.shape)\n",
    "print(yy.shape)\n",
    "print(xx.bounding_shape()[-1])"
   ]
  },
  {
   "cell_type": "code",
   "execution_count": 524,
   "id": "fac6770c",
   "metadata": {
    "scrolled": true
   },
   "outputs": [
    {
     "name": "stdout",
     "output_type": "stream",
     "text": [
      "<tf.RaggedTensor [[3, 5, 3, 1, 2, 2, 1, 5, 5, 5, 1, 2, 2, 3, 3, 3, 4, 5, 5, 3, 5, 1, 3, 4, 3, 1, 5, 1, 1, 1, 3, 5, 4, 5, 2, 4, 4, 4, 5, 5, 3, 2, 1, 2, 1, 5, 2, 4, 2, 1, 4, 1, 4, 5, 1, 1, 3, 5, 2, 4, 1, 3, 5, 2, 3, 5, 4, 4, 5, 4, 3, 2, 1, 1, 2, 4, 1, 5, 2, 5, 5, 2, 5, 2, 5, 1, 3, 4, 2, 5, 2, 2, 2, 2, 4, 5, 3, 2, 3, 4, 4, 1, 1, 3, 3, 3, 2, 5, 2, 3, 4, 1, 5, 5, 2, 4, 2, 3, 2, 5, 3, 3, 1, 3, 3, 2, 3, 1, 3, 4, 1, 4, 5, 3, 5, 2, 3, 4, 5, 4, 2, 2, 2, 2, 3, 3, 3, 1, 3, 3, 1, 3, 2, 2, 1, 1, 3, 4, 3, 1, 2, 4, 3, 4, 4, 5, 2, 2, 1, 2, 3, 1, 3, 4, 5, 2, 5, 2, 3, 4, 3, 5, 5, 2, 1, 5, 3, 1, 5, 2, 1, 4, 4, 3, 5, 3, 1, 3, 5, 1, 1, 2, 3, 5, 5, 4, 2, 2, 4, 2, 2, 1, 3, 5, 4, 1, 5, 2, 2, 4, 4, 4, 1, 5, 4, 5, 2, 3, 4, 5, 1, 3, 3, 2, 1, 4, 2, 4, 1, 2, 4, 1, 1, 2, 4, 2, 2, 5, 5, 1, 1, 3, 1, 5, 5, 3, 1, 1, 5, 2, 1, 1, 4, 3, 1, 5, 4, 1, 4, 3, 5, 5, 2, 3, 2, 2, 5, 5, 4, 4, 3, 1, 2, 3, 4, 4, 3, 5, 5, 3, 3, 5, 2, 4, 5, 3, 1, 3, 1, 1, 1, 5, 3, 3, 5, 2, 2, 4, 5, 5, 5, 5, 2, 5, 3, 2, 5, 1, 4, 2, 4, 3, 1, 1, 4, 2, 3, 1, 5, 3, 2, 1, 3, 5, 3, 1, 5, 2, 5, 5, 4, 3, 1, 3, 2, 2, 2, 1, 3, 2, 4, 5, 1, 2, 3, 3, 4, 3, 1, 4, 5, 4, 3, 3, 4, 5, 1, 2, 3, 1, 4, 2, 3, 4, 3, 2, 3, 3, 2, 2, 3, 2, 4, 4, 1, 3, 4, 3, 2, 5, 2, 4, 3, 2, 3, 1, 1, 1, 2, 2, 2, 4, 4, 1, 5, 4, 2, 2, 4, 3, 1, 1, 2, 3, 3, 4, 2, 3, 1, 4, 5, 2, 2, 4, 2, 5, 4, 4, 3, 3, 1, 1, 3, 3, 2, 3, 2, 2, 1, 4, 2, 2, 2, 4, 3, 2, 2, 3, 5, 1, 5, 4, 2, 3, 4, 1, 2, 2, 5, 1, 1, 3, 3, 3, 4, 5, 2, 3, 2, 2, 3, 4, 5, 4, 2, 5, 4, 2, 2, 2, 2, 1, 4, 3, 1, 1, 4, 1, 5, 3, 2, 3, 1, 4, 1, 1, 2, 2, 3, 1, 5, 1, 2, 4, 3, 3, 5, 4, 5, 4, 2, 5, 2, 1, 2, 2, 3, 5, 5, 3, 2, 4, 1, 3, 3, 1, 4, 3, 4, 1, 1, 5, 2, 4, 1, 5, 5, 4, 2, 4, 5, 4, 1, 4, 4, 4, 1, 3, 2, 1, 5, 4, 1, 3, 1, 1, 1, 2, 2, 4, 4, 3, 1, 4, 5, 2, 2, 1, 3, 4, 5, 1, 5, 4, 4, 4, 4, 1, 1, 1, 5, 3, 2, 2, 4, 3, 4, 3, 2, 5, 5, 1, 5, 1, 3, 3, 2, 4, 1, 2, 3, 1, 4, 5, 3, 5, 1, 2, 2, 2, 5, 5, 1, 1, 3, 4, 3, 2, 2, 1, 5, 5, 3, 3, 3, 2, 3, 3, 2, 1, 3, 1, 5, 1, 4, 2, 2, 5, 2, 3, 2, 5, 4, 4, 4, 3, 4, 1, 1, 5, 5, 1, 5, 3, 5, 1, 5, 3, 1, 5, 5, 2, 5, 4, 5, 2, 3, 4, 5, 5, 1, 1, 1, 5, 5, 4, 3, 5, 5, 1, 1, 4, 4, 2, 4, 5, 1, 2, 3, 4, 1, 2, 1, 1, 1, 4, 2, 3, 1, 3, 5, 1, 5, 5, 3, 4, 5, 4, 5, 3, 1, 5, 1, 3, 2, 4, 2, 4, 4, 5, 2, 4, 3, 1, 5, 1, 2, 3, 5, 5, 1, 3, 4, 5, 4, 4, 2, 3, 2, 5, 1, 1, 4, 1, 2, 3, 1, 4, 1, 2, 1, 3, 5, 5, 4, 1, 5, 5, 5, 4, 5, 2, 3, 5, 1, 3, 5, 4, 5, 3, 4, 5, 4, 1, 2, 4, 2, 4, 5, 4, 3, 5, 5, 3, 1, 5, 4, 4, 3, 5, 4, 3, 1, 1, 3, 2, 4, 4, 4, 1, 3, 2, 4, 3, 2, 2, 2, 2, 2, 2, 4, 2, 4, 3, 1, 4, 1, 2, 2, 5, 3, 5, 5, 2, 3, 5, 3, 2, 5, 3, 3, 5, 2, 2, 2, 2, 5, 3, 4, 5, 5, 4, 2, 5, 5, 5, 1, 1, 3, 2, 1, 1, 3, 1, 4, 4, 1, 1, 5, 3, 4, 1, 3, 2, 4, 3, 5, 4, 2, 3, 5, 5, 3, 3, 2, 4, 5, 5, 4, 1, 4, 1, 3, 2, 4, 1, 2, 5, 4, 3, 2, 4, 2, 5, 2, 2, 3, 1, 5, 5, 2, 1, 1, 4, 3, 2, 3, 3, 1, 1, 3, 1, 1, 3, 1, 3, 1, 5, 5, 4, 4, 1, 5, 5, 5, 2, 1, 5, 1, 4, 4, 5, 5, 1, 2, 5, 3, 5, 2, 3, 1, 5, 1, 5, 4, 4, 5, 4, 4, 3, 3, 1, 4, 2, 2, 2, 1, 5, 2, 4, 4, 2, 2, 1, 2, 1, 2, 1, 1, 5, 5, 2, 4, 3, 2, 3, 2, 3, 2, 1, 2, 2, 5, 2, 4, 1, 3, 2, 5, 3, 1, 2, 2, 4, 3, 4, 3, 3, 4, 1, 2, 1, 3, 4, 2, 1, 1, 2, 4, 5, 2, 3, 1, 2, 5, 1, 1, 2, 2, 2, 3, 3, 5, 2, 1, 2, 1, 4, 2, 4, 1, 5, 5, 3, 2, 4, 5, 2, 5, 2, 4, 2, 2, 3, 1, 5, 3, 4, 1, 4, 2, 4, 3, 2, 4, 4, 1, 4, 5, 4, 4, 2, 1, 3, 4, 1, 5, 3, 2, 1, 5, 4, 5, 2, 3, 3, 5, 5, 2, 3, 1, 2, 5, 5, 4, 4, 1, 2, 1, 5, 5, 4, 1, 1, 2, 1, 4, 3, 4, 1, 1, 1, 4, 4, 2, 4, 3, 3, 1, 2, 5, 5, 3, 4, 3, 1, 2, 4, 2, 5, 5, 4, 1, 4, 2, 2, 2, 5, 1, 5, 1, 4, 3, 4, 3, 2, 5, 3, 4, 2, 1, 3, 4, 2, 5, 1, 1, 2, 1, 5, 1, 5, 5, 5, 2, 5, 2, 2, 2, 2, 4, 2, 4, 5, 3, 1, 2, 4, 3, 2, 1, 4, 1, 3, 2, 4, 3, 4, 2, 5, 3, 4, 4, 5, 5, 2, 5, 1, 4, 2, 4, 1, 2, 5, 1, 1, 2, 2, 1, 3, 3, 1, 2, 2, 5, 5, 5, 2, 1, 1, 3, 1, 3, 4, 1, 4, 5, 4, 5, 3, 4, 5, 1, 4, 1, 3, 3, 1, 2, 3, 2, 5, 4, 2, 3, 2, 2, 5, 2, 4, 4, 2, 1, 3, 4, 1, 2, 1, 5, 5, 3, 2, 2, 1, 5, 4, 4, 2, 2, 3, 3, 1, 5, 5, 4, 5, 5, 3, 5, 5, 1, 2, 2, 1, 3, 5, 5, 1, 2, 5, 4, 2, 1, 5, 5, 4, 2, 1, 3, 1, 5, 4, 3, 4, 5, 3, 4, 2, 2, 2, 1, 2, 1, 1, 4, 3, 5, 4, 1, 5, 3, 1, 4, 4, 5, 5, 5, 5, 1, 5, 3, 4, 2, 4, 4, 5, 3, 5, 4, 5, 3, 2, 1, 4, 5, 2, 1, 5, 3, 2, 3, 5, 5, 3, 1, 4, 3, 2, 2, 1, 1, 3, 3, 2, 1, 2, 4, 2, 1, 5, 3, 2, 3, 2, 5, 1, 1, 2, 4, 4, 2, 4, 2, 5, 4, 2, 5, 1, 4, 5, 3, 1, 4, 1, 5, 4, 4, 3, 1, 2, 1, 5, 5, 4, 5, 4, 4, 3, 1, 2, 4, 4, 2, 2, 3, 3, 1, 3, 4, 3, 1, 5, 2, 1, 2, 1, 1, 5, 5, 1, 2, 5, 3, 2, 2, 5, 4, 3, 5, 3, 4, 5, 1, 5, 4, 4, 3, 3, 4, 2, 5, 5, 5, 5, 5, 4, 2, 3, 1, 3, 1, 4, 4, 5, 2, 4, 4, 1, 5, 1, 4, 5, 4, 3, 2, 3, 5, 2, 1, 1, 4, 2, 1, 3, 2, 2, 5, 5, 5, 3, 5, 3, 1, 1, 4, 4, 5, 4, 4, 4, 3, 3, 3, 4, 2, 3, 3, 3, 1, 2, 5, 3, 2, 5, 1, 5, 5, 4, 1, 4, 3, 4, 1, 4, 1, 4, 2, 4, 1, 1, 3, 3, 3, 1, 3, 4, 3, 1, 2, 4, 5, 3, 5, 1, 3, 4, 2, 4, 5, 3, 1, 1, 2, 2, 1, 5, 1, 4, 3, 4, 3, 2, 1, 2, 2, 2, 2, 2, 5, 1, 3, 1, 5, 5, 1, 2, 5, 3, 2, 2, 2, 2, 3, 3, 2, 1, 4, 3, 2, 4, 4, 4, 2, 2, 1, 4, 4, 4, 2, 1, 2, 1, 2, 3, 2, 2, 2, 3, 1, 3, 3, 4, 4, 1, 2, 4, 4, 2, 5, 2, 3, 3, 4, 4, 2, 4, 4, 1, 5, 2, 4, 4, 3, 2, 3, 3, 4, 1, 5, 1, 4, 3, 3, 2, 2, 1, 1, 4, 2, 2, 3, 2, 3, 1, 5, 4, 4, 5, 4, 1, 5, 2, 3, 1, 1, 1, 2, 3, 4, 5, 1, 3, 1, 5, 5, 4, 1, 4, 3, 4, 4, 1, 4, 5, 5, 1, 1, 5, 5, 1, 4, 1, 2, 5, 4, 5, 1, 3, 1, 1, 3, 1, 3, 2, 2, 2, 1, 4, 4, 5, 2, 4, 4, 1, 3, 4, 1, 1, 3, 3, 1, 4, 2, 1, 5, 3, 4, 2, 1, 2, 2, 3, 2, 5, 4, 2, 2, 1, 3, 1, 1, 4, 2, 5, 3, 3, 4, 1, 4, 2, 2, 4, 4, 2, 4, 5, 2, 1, 4, 3, 2, 3, 1, 3, 5, 1, 5, 5, 1, 5, 2, 3, 3, 4, 1, 5, 2, 1, 3, 3, 4, 1, 1, 1, 3, 1, 2, 5, 4, 5, 3, 3, 4, 5, 5, 3, 2, 4, 5, 1, 4, 4, 5, 5, 3, 5, 5, 4, 1, 4, 3, 3, 2, 4, 1, 2, 2, 5, 2, 1, 4, 3, 1, 5, 4, 5, 3, 1, 5, 2, 4, 4, 3, 3, 5, 4, 3, 4, 2, 4, 3, 5, 2, 4, 2, 2, 5, 5, 5, 3, 4, 1, 1, 5, 2, 3, 3, 3, 2, 3, 3, 2, 4, 2, 5, 5, 1, 2, 3, 1, 1, 2, 4, 4, 3, 3, 3, 3, 2, 2, 3, 5, 3, 3, 5, 5, 4, 4, 3, 3, 5, 4, 1, 1, 4, 3, 1, 3, 3, 1, 3, 1, 2, 1, 5, 3, 1, 3, 3, 1, 5, 2, 2, 2, 4, 5, 3, 4, 1, 3, 1, 3, 1, 5, 5, 3, 1, 1, 1, 3, 5, 3, 1, 4, 1, 1, 5, 5, 2, 5, 2, 3, 5, 4, 4, 5, 1, 2, 4, 5, 1, 4, 1, 5, 1, 1, 4, 4, 5, 5, 2, 5, 4, 5, 5, 5, 1, 5, 4, 2, 2, 2, 3, 5, 5, 1, 5, 1, 1, 5, 4, 4, 3, 4, 2, 5, 3, 1, 5, 5, 3, 1, 3, 5, 3, 2, 5, 4, 5, 1, 5, 2, 5, 4, 4, 3, 2, 1, 4, 2, 4, 1, 5, 2, 3, 2, 4, 1, 5, 3, 3, 2, 1, 3, 3, 5, 3, 3, 3, 1, 2, 1, 1, 4, 4, 2, 4, 3, 5, 1, 5, 5, 1, 2, 4, 1, 5, 4, 2, 3, 5, 3, 5, 5, 2, 1, 1, 5, 5, 1, 3, 4, 1, 1, 2, 4, 5, 2, 5, 1, 1, 1, 2, 2, 4, 3, 1, 5, 2, 5, 3, 4, 4, 5, 1, 4, 5, 2, 5, 3, 2, 5, 4, 5, 3, 5, 5, 3, 2, 4, 2, 5, 5, 2, 1, 5, 5, 5, 1, 1, 4, 1, 1, 1, 1, 5, 1, 3, 3, 2, 1, 1, 1, 5, 3, 3, 1, 2, 3, 5, 4, 5, 5, 5, 4, 4, 5, 4, 2, 2, 4, 4, 2, 1, 5, 1, 4, 4, 1, 2, 3, 2, 3, 5, 1, 4, 1, 5, 1, 2, 1, 1, 5, 3, 5, 4, 3, 4, 5, 3, 5, 2, 5, 2, 5, 1, 5, 3, 2, 4, 5, 2, 4, 5, 3, 2, 4, 4, 2, 4, 4, 5, 2, 3, 3, 4, 3, 1, 1, 5, 1, 1, 2, 3, 2, 2, 5, 2, 2, 1, 2, 2, 1, 4, 1, 2, 2, 4, 5, 4, 4, 2, 2, 4, 4, 3, 1, 4, 4, 1, 3, 1, 5, 4, 1, 3, 5, 5, 1, 2, 4, 5, 4, 2, 3, 2, 4, 5, 5, 2, 2, 2, 2, 1, 3, 3, 5, 3, 4, 4, 5, 2, 3, 4, 5, 5, 4, 2, 4, 4, 5, 1, 1, 5, 3, 1, 1, 2, 4, 3, 2, 3, 5, 2, 2, 5, 5, 1, 2, 4, 3, 2, 5, 1, 5, 2, 1, 5, 3, 4, 1, 5, 4, 5, 4, 3, 2, 2, 1, 3, 4, 4, 1, 5, 1, 1, 4, 3, 3, 3, 4, 5, 5, 5, 1, 3, 5, 2, 1, 4, 4, 1, 3, 2, 1, 4, 2, 3, 3, 2, 2, 2, 2, 5, 1, 2, 1, 5, 5, 2, 4, 1, 1, 1, 5, 2, 2, 2, 4, 5, 5, 5, 4, 2, 3, 2, 3, 1, 4, 1, 5, 1, 4, 5, 5, 3, 4, 2, 1, 3, 5, 4, 5, 3, 2, 4, 4, 1, 2, 5, 3, 4, 5, 3, 1, 5, 4, 2, 2, 3, 5, 5, 5, 5, 1, 3, 2, 1, 1, 3, 5, 3, 4, 2, 5, 4, 4, 1, 2, 2, 4, 1, 5, 1, 3, 2, 2, 5, 4, 5, 5, 2, 1, 4, 4, 3, 3, 2, 2, 4, 3, 5, 4, 1, 1, 2, 2, 1, 4, 3, 1, 1, 4, 2, 5, 4, 3, 2, 1, 3, 1, 5, 1, 4, 1, 3, 1, 1, 3, 2, 3, 4, 5, 3, 5, 1, 3, 3, 2, 3, 5, 2, 1, 5, 3, 4, 5, 4, 1, 1, 3, 4, 3, 1, 4, 4, 2, 1, 5, 2, 1, 5, 1, 2, 1, 5, 5, 1, 2, 4, 2, 4, 4, 4, 4, 4, 1, 4, 4, 5, 4, 4, 5, 2, 1, 1, 5, 5, 2, 4, 2, 5, 2, 2, 2, 5, 2, 4, 5, 3, 1, 5, 4, 3, 3, 1, 3, 2, 1, 4, 3, 1, 5, 2, 1, 4, 2, 1, 5, 1, 4, 3, 4, 3, 5, 4, 3, 2, 1, 5, 4, 2, 3, 1, 1, 5, 3, 1, 3, 5, 2, 1, 5, 4, 5, 2, 2, 3, 3, 4, 1, 5, 5, 3, 3, 2, 3, 3, 1, 2, 2, 4, 3, 3, 1, 2, 4, 5, 5, 2, 4, 4, 1, 4, 2, 3, 5, 3, 2, 4, 1, 1, 1, 4, 5, 5, 2, 3, 1, 1, 2, 1, 5, 5, 2, 5, 3, 3, 5, 1, 3, 2, 4, 3, 4, 2, 3, 2, 5, 4, 4, 5, 3, 2, 3, 5, 3, 4, 1, 2, 3, 2, 3, 3, 4, 4, 2, 3, 2, 4, 1, 5, 1, 2, 3, 5, 4, 5, 5, 4, 3, 4, 4, 1, 1, 3, 4, 4, 1, 1, 5, 1, 1, 5, 5, 5, 4, 1, 1, 3, 4, 5, 3, 2, 4, 4, 2, 1, 4, 1, 4, 2, 3, 1, 1, 2, 4, 5, 3, 1, 2, 5, 4, 2, 1, 4, 3, 1, 2, 5, 5, 4, 4, 2, 5, 5, 2, 1, 5, 3, 3, 4, 5, 4, 5, 5, 5, 3, 3, 1, 2, 5, 2, 1, 4, 2, 5, 2, 4, 5, 5, 3, 3, 1, 3, 1, 2, 2, 5, 5, 2, 5, 2, 1, 1, 2, 4, 5, 5, 5, 5, 5, 3, 2, 4, 5, 1, 4, 4, 5, 5, 4, 2, 1, 3, 2, 1, 2, 2, 3, 3, 1, 4, 4, 2, 5, 1, 1, 2, 1, 2, 5, 3, 2, 4, 4, 3, 3, 1, 4, 4, 5, 4, 1, 2, 3, 2, 5, 2, 1, 1, 2, 3, 4, 4, 1, 5, 1, 5, 4, 3, 4, 1, 1, 5, 5, 3, 1, 3, 5, 5, 4, 3, 2, 2, 3, 3, 1, 2, 2, 5, 5, 2, 4, 5, 2, 1, 3, 5, 1, 4, 2, 2, 1, 3, 4, 4, 1, 2, 4, 4, 1, 4, 3, 3, 5, 2, 4, 1, 5, 4, 1, 2, 5, 5, 1, 4, 3, 4, 3, 5, 4, 4, 4, 5, 2, 1, 5, 4, 3, 4, 5, 3, 2, 3, 2, 2, 5, 4, 3, 1, 4, 5, 3, 4, 4, 5, 3, 5, 3, 4, 2, 4, 2, 3, 5, 3, 5, 5, 4, 3, 3, 5, 1, 5, 4, 1, 4, 3, 3, 1, 1, 1, 5, 4, 4, 5, 3, 1, 4, 5, 2, 4, 1, 1, 5, 5, 1, 3, 4, 4, 4, 4, 4, 1, 2, 3, 1, 4, 4, 3, 4, 1, 5, 1, 3, 3, 5, 3, 1, 1, 4, 2, 1, 3, 5, 4, 4, 5, 2, 1, 5, 5, 3, 4, 3, 4, 3, 4, 2, 2, 5, 1, 1, 4, 3, 5, 4, 1, 5, 1, 3, 1, 2, 4, 4, 2, 1, 3, 1, 4, 5, 2, 2, 2, 1, 2, 4, 3, 4, 3, 3, 4, 4, 2, 1, 3, 1, 4, 4, 5, 4, 5, 2, 5, 2, 5, 5, 1, 1, 4, 5, 5, 1, 3, 3, 4, 1, 3, 2, 1, 2, 2, 3, 5, 3, 4, 5, 4, 5, 1, 2, 1, 3, 3, 1, 4, 5, 5, 3, 1, 5, 2, 3, 3, 3, 1, 1, 4, 5, 5, 1, 5, 2, 5, 2, 3, 1, 4, 2, 4, 2, 5, 5, 3, 2, 5, 5, 5, 4, 4, 2, 4, 1, 5, 3, 4, 5, 1, 3, 1, 5, 2, 2, 1, 2, 4, 3, 3, 2, 4, 5, 5, 3, 3, 2, 5, 2, 5, 1, 1, 5, 2, 3, 5, 2, 1, 1, 1, 5, 1, 1, 2, 4, 4, 1, 4, 4, 3, 2, 4, 3, 4, 5, 2, 5, 2, 5, 5, 5, 1, 2, 5, 2, 5, 3, 4, 3, 2, 4, 1, 4, 1, 1, 2, 2, 5, 1, 3, 1, 2, 2, 3, 2, 4, 3, 2, 3, 4, 1, 1, 1, 2, 3, 5, 3, 2, 3, 3, 3, 1, 3, 5, 1, 1, 5, 4, 5, 1, 4, 4, 1, 2, 3, 4, 2, 3, 3, 5, 4, 2, 2, 3, 4, 1, 1, 5, 3, 4, 2, 1, 1, 2, 2, 3, 3, 3, 3, 5, 5, 1, 5, 1, 3, 2, 2, 4, 3, 5, 5, 1, 3, 2, 4, 5, 5, 3, 3, 4, 5, 3, 3, 1, 4, 1, 4, 3, 2, 1, 5, 4, 5, 4, 1, 1, 4, 2, 4, 5, 4, 3, 1, 5, 5, 1, 1, 3, 1, 1, 3, 4, 4, 1, 5, 1, 4, 2, 1, 2, 3, 3, 4, 1, 4, 1, 3, 1, 2, 1, 4, 2, 2, 1, 1, 2, 1, 2, 4, 1, 3, 3, 1, 3, 1, 5, 2, 3, 5, 4, 5, 3, 5, 3, 1, 1, 5, 2, 3, 3, 1, 2, 2, 2, 3, 1, 5, 2, 3, 2, 3, 2, 3, 2, 4, 3, 5, 3, 3, 3, 2, 4, 2, 4, 5, 1, 5, 5, 1, 4, 5, 5, 2, 5, 4, 3, 3, 4, 4, 3, 5, 4, 2, 3, 3, 1, 4, 3, 1, 1, 5, 5, 1, 1, 2, 4, 1, 1, 2, 4, 4, 5, 3, 4, 2, 5, 3, 1, 2, 3, 1, 3, 2, 1, 5, 3, 1, 3, 4, 5, 3, 1, 2, 2, 2, 5, 4, 2, 3, 5, 4, 2, 4, 1, 2, 2, 2, 5, 5, 4, 2, 3, 1, 5, 4, 5, 1, 5, 1, 1, 1, 1, 1, 3, 5, 3, 5, 4, 4, 4, 2, 5, 3, 2, 3, 1, 3, 1, 2, 1, 1, 2, 1, 5, 5, 3, 4, 2, 1, 4, 1, 3, 5, 5, 2, 3, 4, 3, 4, 5, 1, 4, 3, 5, 4, 4, 5, 4, 1, 4, 3, 1, 4, 4, 3, 2, 2, 4, 1, 5, 3, 4, 1, 4, 5, 4, 4, 1, 4, 4, 4, 5, 1, 2, 5, 2, 1, 3, 3, 1, 4, 3, 3, 2, 1, 5, 1, 4, 5, 5, 1, 4, 3, 2, 5, 5, 2, 1, 1, 2, 5, 3, 1, 2, 1, 2, 3, 4, 1, 5, 3, 2, 4, 3, 3, 4, 1, 5, 2, 5, 5, 2, 3, 5, 2, 3, 5, 5, 2, 1, 3, 4, 3, 1, 2, 5, 1, 2, 3, 3, 3, 2, 5, 5, 1, 3, 4, 4, 1, 3, 1, 4, 3, 5, 2, 4, 4, 4, 3, 5, 5, 3, 3, 4, 1, 4, 5, 4, 5, 3, 5, 4, 1, 4, 4, 3, 4, 2, 3, 2, 5, 1, 2, 1, 4, 4, 2, 4, 1, 5, 1, 2, 4, 3, 3, 1, 2, 1, 5, 2, 3, 2, 1, 5, 3, 4, 2, 3, 4, 2, 4, 2, 1, 2, 4, 2, 5, 4, 5, 3, 4, 2, 2, 2, 3, 2, 1, 5, 2, 2, 4, 1, 1, 1, 1, 5, 2, 2, 3, 2, 1, 2, 1, 5, 3, 1, 3, 5, 5, 2, 5, 2, 3, 2, 1, 1, 1, 1, 1, 2, 2, 1, 5, 2, 2, 2, 5, 5, 1, 3, 5, 4, 5, 4, 4, 1, 1, 1, 5, 4, 1, 3, 5, 3, 2, 2, 2, 4, 5, 2, 3, 2, 2, 1, 3, 1, 4, 1, 1, 5, 3, 3, 3, 1, 2, 5, 3, 1, 2, 1, 2, 3, 2, 5, 2, 1, 2, 2, 1, 2, 5, 4, 2, 3, 4, 5, 2, 5, 5, 3, 5, 1, 4, 1, 2, 1, 1, 3, 3, 5, 1, 2, 1, 1, 2, 4, 5, 1, 3, 5, 5, 1, 3, 4, 1, 2, 4, 2, 1, 2, 3, 5, 4, 5, 1, 2, 5, 3]]>\n"
     ]
    }
   ],
   "source": [
    "print(xx[1])"
   ]
  },
  {
   "cell_type": "code",
   "execution_count": 525,
   "id": "8d785fef",
   "metadata": {
    "scrolled": false
   },
   "outputs": [
    {
     "name": "stdout",
     "output_type": "stream",
     "text": [
      "Model: \"sequential_94\"\n",
      "_________________________________________________________________\n",
      "Layer (type)                 Output Shape              Param #   \n",
      "=================================================================\n",
      "lstm_94 (LSTM)               (2, 64)                   996352    \n",
      "_________________________________________________________________\n",
      "dense_94 (Dense)             (2, 1)                    65        \n",
      "=================================================================\n",
      "Total params: 996,417\n",
      "Trainable params: 996,417\n",
      "Non-trainable params: 0\n",
      "_________________________________________________________________\n",
      "Epoch 1/10\n",
      "10/10 [==============================] - 2s 13ms/step - loss: 0.0000e+00 - accuracy: 1.0000\n",
      "Epoch 2/10\n",
      "10/10 [==============================] - 0s 13ms/step - loss: 0.0000e+00 - accuracy: 1.0000\n",
      "Epoch 3/10\n",
      "10/10 [==============================] - 0s 13ms/step - loss: 0.0000e+00 - accuracy: 1.0000\n",
      "Epoch 4/10\n",
      "10/10 [==============================] - 0s 13ms/step - loss: 0.0000e+00 - accuracy: 1.0000\n",
      "Epoch 5/10\n",
      "10/10 [==============================] - 0s 14ms/step - loss: 0.0000e+00 - accuracy: 1.0000\n",
      "Epoch 6/10\n",
      "10/10 [==============================] - 0s 15ms/step - loss: 0.0000e+00 - accuracy: 1.0000\n",
      "Epoch 7/10\n",
      "10/10 [==============================] - 0s 15ms/step - loss: 0.0000e+00 - accuracy: 1.0000\n",
      "Epoch 8/10\n",
      "10/10 [==============================] - 0s 13ms/step - loss: 0.0000e+00 - accuracy: 1.0000\n",
      "Epoch 9/10\n",
      "10/10 [==============================] - 0s 13ms/step - loss: 0.0000e+00 - accuracy: 1.0000\n",
      "Epoch 10/10\n",
      "10/10 [==============================] - 0s 13ms/step - loss: 0.0000e+00 - accuracy: 1.0000\n"
     ]
    }
   ],
   "source": [
    "# For ragged tensor , get maximum sequence length\n",
    "max_seq = xx.bounding_shape()[-1]\n",
    "mdl = tf.keras.Sequential([\n",
    "    # Input Layer with shape = [Any,  maximum sequence length]                      \n",
    "    tf.keras.layers.Input(shape=[None, max_seq], batch_size=2, dtype=tf.float32, ragged=True),\n",
    "    tf.keras.layers.LSTM(64),\n",
    "    tf.keras.layers.Dense(1, activation='softmax')\n",
    "])\n",
    "\n",
    "# CategoricalCrossentropy\n",
    "mdl.compile(loss=tf.keras.losses.CategoricalCrossentropy(from_logits=True),\n",
    "              optimizer=tf.keras.optimizers.Adam(1e-4),\n",
    "              metrics=['accuracy'])\n",
    "\n",
    "mdl.summary()\n",
    "history = mdl.fit(xx, yy, epochs=10)\n"
   ]
  },
  {
   "cell_type": "code",
   "execution_count": null,
   "id": "2c1756c4",
   "metadata": {},
   "outputs": [],
   "source": []
  },
  {
   "cell_type": "code",
   "execution_count": null,
   "id": "0f00f53a",
   "metadata": {},
   "outputs": [],
   "source": []
  }
 ],
 "metadata": {
  "kernelspec": {
   "display_name": "Python 3 (ipykernel)",
   "language": "python",
   "name": "python3"
  },
  "language_info": {
   "codemirror_mode": {
    "name": "ipython",
    "version": 3
   },
   "file_extension": ".py",
   "mimetype": "text/x-python",
   "name": "python",
   "nbconvert_exporter": "python",
   "pygments_lexer": "ipython3",
   "version": "3.9.7"
  }
 },
 "nbformat": 4,
 "nbformat_minor": 5
}
