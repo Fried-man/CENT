{
 "cells": [
  {
   "cell_type": "code",
   "execution_count": 5,
   "id": "a2f8c089",
   "metadata": {},
   "outputs": [],
   "source": [
    "contents = []\n",
    "with open('USA-Jan.fasta', 'r') as file:\n",
    "    contents = file.read().replace('\\n', '')"
   ]
  },
  {
   "cell_type": "code",
   "execution_count": 8,
   "id": "4facd404",
   "metadata": {},
   "outputs": [
    {
     "data": {
      "text/plain": [
       "200"
      ]
     },
     "execution_count": 8,
     "metadata": {},
     "output_type": "execute_result"
    }
   ],
   "source": [
    "listOfSequences = contents.split('>')[1:]"
   ]
  },
  {
   "cell_type": "code",
   "execution_count": null,
   "id": "b142e8d7",
   "metadata": {},
   "outputs": [],
   "source": []
  }
 ],
 "metadata": {
  "kernelspec": {
   "display_name": "Python 3 (ipykernel)",
   "language": "python",
   "name": "python3"
  },
  "language_info": {
   "codemirror_mode": {
    "name": "ipython",
    "version": 3
   },
   "file_extension": ".py",
   "mimetype": "text/x-python",
   "name": "python",
   "nbconvert_exporter": "python",
   "pygments_lexer": "ipython3",
   "version": "3.9.7"
  }
 },
 "nbformat": 4,
 "nbformat_minor": 5
}
